{
 "cells": [
  {
   "cell_type": "code",
   "execution_count": 1,
   "id": "83ac4c79",
   "metadata": {
    "_cell_guid": "b1076dfc-b9ad-4769-8c92-a6c4dae69d19",
    "_uuid": "8f2839f25d086af736a60e9eeb907d3b93b6e0e5",
    "execution": {
     "iopub.execute_input": "2022-06-21T19:48:22.737473Z",
     "iopub.status.busy": "2022-06-21T19:48:22.736472Z",
     "iopub.status.idle": "2022-06-21T19:48:22.757928Z",
     "shell.execute_reply": "2022-06-21T19:48:22.756782Z"
    },
    "papermill": {
     "duration": 0.02929,
     "end_time": "2022-06-21T19:48:22.760715",
     "exception": false,
     "start_time": "2022-06-21T19:48:22.731425",
     "status": "completed"
    },
    "tags": []
   },
   "outputs": [
    {
     "name": "stdout",
     "output_type": "stream",
     "text": [
      "/kaggle/input/dnd-stats/stats.csv\n"
     ]
    }
   ],
   "source": [
    "import numpy as np \n",
    "import pandas as pd \n",
    "\n",
    "import os\n",
    "for dirname, _, filenames in os.walk('/kaggle/input'):\n",
    "    for filename in filenames:\n",
    "        print(os.path.join(dirname, filename))"
   ]
  },
  {
   "cell_type": "code",
   "execution_count": 2,
   "id": "dcf21e4d",
   "metadata": {
    "execution": {
     "iopub.execute_input": "2022-06-21T19:48:22.767662Z",
     "iopub.status.busy": "2022-06-21T19:48:22.766632Z",
     "iopub.status.idle": "2022-06-21T19:48:22.852295Z",
     "shell.execute_reply": "2022-06-21T19:48:22.851151Z"
    },
    "papermill": {
     "duration": 0.091563,
     "end_time": "2022-06-21T19:48:22.854919",
     "exception": false,
     "start_time": "2022-06-21T19:48:22.763356",
     "status": "completed"
    },
    "tags": []
   },
   "outputs": [
    {
     "data": {
      "text/html": [
       "<div>\n",
       "<style scoped>\n",
       "    .dataframe tbody tr th:only-of-type {\n",
       "        vertical-align: middle;\n",
       "    }\n",
       "\n",
       "    .dataframe tbody tr th {\n",
       "        vertical-align: top;\n",
       "    }\n",
       "\n",
       "    .dataframe thead th {\n",
       "        text-align: right;\n",
       "    }\n",
       "</style>\n",
       "<table border=\"1\" class=\"dataframe\">\n",
       "  <thead>\n",
       "    <tr style=\"text-align: right;\">\n",
       "      <th></th>\n",
       "      <th>height</th>\n",
       "      <th>weight</th>\n",
       "      <th>speed</th>\n",
       "      <th>strength</th>\n",
       "      <th>dexterity</th>\n",
       "      <th>constitution</th>\n",
       "      <th>intelligence</th>\n",
       "      <th>wisdom</th>\n",
       "      <th>charisma</th>\n",
       "    </tr>\n",
       "  </thead>\n",
       "  <tbody>\n",
       "    <tr>\n",
       "      <th>count</th>\n",
       "      <td>10000.000000</td>\n",
       "      <td>10000.000000</td>\n",
       "      <td>10000.000000</td>\n",
       "      <td>10000.000000</td>\n",
       "      <td>10000.000000</td>\n",
       "      <td>10000.000000</td>\n",
       "      <td>10000.000000</td>\n",
       "      <td>10000.000000</td>\n",
       "      <td>10000.000000</td>\n",
       "    </tr>\n",
       "    <tr>\n",
       "      <th>mean</th>\n",
       "      <td>59.566700</td>\n",
       "      <td>145.267400</td>\n",
       "      <td>28.324500</td>\n",
       "      <td>12.850800</td>\n",
       "      <td>12.842500</td>\n",
       "      <td>12.752300</td>\n",
       "      <td>12.751500</td>\n",
       "      <td>12.414800</td>\n",
       "      <td>12.870100</td>\n",
       "    </tr>\n",
       "    <tr>\n",
       "      <th>std</th>\n",
       "      <td>13.246007</td>\n",
       "      <td>70.109265</td>\n",
       "      <td>2.360245</td>\n",
       "      <td>2.967528</td>\n",
       "      <td>2.945872</td>\n",
       "      <td>2.922293</td>\n",
       "      <td>2.945677</td>\n",
       "      <td>2.893817</td>\n",
       "      <td>2.974746</td>\n",
       "    </tr>\n",
       "    <tr>\n",
       "      <th>min</th>\n",
       "      <td>33.000000</td>\n",
       "      <td>36.000000</td>\n",
       "      <td>25.000000</td>\n",
       "      <td>3.000000</td>\n",
       "      <td>3.000000</td>\n",
       "      <td>3.000000</td>\n",
       "      <td>3.000000</td>\n",
       "      <td>3.000000</td>\n",
       "      <td>3.000000</td>\n",
       "    </tr>\n",
       "    <tr>\n",
       "      <th>25%</th>\n",
       "      <td>52.000000</td>\n",
       "      <td>120.000000</td>\n",
       "      <td>25.000000</td>\n",
       "      <td>11.000000</td>\n",
       "      <td>11.000000</td>\n",
       "      <td>11.000000</td>\n",
       "      <td>11.000000</td>\n",
       "      <td>10.000000</td>\n",
       "      <td>11.000000</td>\n",
       "    </tr>\n",
       "    <tr>\n",
       "      <th>50%</th>\n",
       "      <td>64.000000</td>\n",
       "      <td>155.000000</td>\n",
       "      <td>30.000000</td>\n",
       "      <td>13.000000</td>\n",
       "      <td>13.000000</td>\n",
       "      <td>13.000000</td>\n",
       "      <td>13.000000</td>\n",
       "      <td>13.000000</td>\n",
       "      <td>13.000000</td>\n",
       "    </tr>\n",
       "    <tr>\n",
       "      <th>75%</th>\n",
       "      <td>69.000000</td>\n",
       "      <td>188.000000</td>\n",
       "      <td>30.000000</td>\n",
       "      <td>15.000000</td>\n",
       "      <td>15.000000</td>\n",
       "      <td>15.000000</td>\n",
       "      <td>15.000000</td>\n",
       "      <td>15.000000</td>\n",
       "      <td>15.000000</td>\n",
       "    </tr>\n",
       "    <tr>\n",
       "      <th>max</th>\n",
       "      <td>82.000000</td>\n",
       "      <td>360.000000</td>\n",
       "      <td>30.000000</td>\n",
       "      <td>20.000000</td>\n",
       "      <td>20.000000</td>\n",
       "      <td>20.000000</td>\n",
       "      <td>20.000000</td>\n",
       "      <td>19.000000</td>\n",
       "      <td>20.000000</td>\n",
       "    </tr>\n",
       "  </tbody>\n",
       "</table>\n",
       "</div>"
      ],
      "text/plain": [
       "             height        weight         speed      strength     dexterity  \\\n",
       "count  10000.000000  10000.000000  10000.000000  10000.000000  10000.000000   \n",
       "mean      59.566700    145.267400     28.324500     12.850800     12.842500   \n",
       "std       13.246007     70.109265      2.360245      2.967528      2.945872   \n",
       "min       33.000000     36.000000     25.000000      3.000000      3.000000   \n",
       "25%       52.000000    120.000000     25.000000     11.000000     11.000000   \n",
       "50%       64.000000    155.000000     30.000000     13.000000     13.000000   \n",
       "75%       69.000000    188.000000     30.000000     15.000000     15.000000   \n",
       "max       82.000000    360.000000     30.000000     20.000000     20.000000   \n",
       "\n",
       "       constitution  intelligence        wisdom      charisma  \n",
       "count  10000.000000  10000.000000  10000.000000  10000.000000  \n",
       "mean      12.752300     12.751500     12.414800     12.870100  \n",
       "std        2.922293      2.945677      2.893817      2.974746  \n",
       "min        3.000000      3.000000      3.000000      3.000000  \n",
       "25%       11.000000     11.000000     10.000000     11.000000  \n",
       "50%       13.000000     13.000000     13.000000     13.000000  \n",
       "75%       15.000000     15.000000     15.000000     15.000000  \n",
       "max       20.000000     20.000000     19.000000     20.000000  "
      ]
     },
     "execution_count": 2,
     "metadata": {},
     "output_type": "execute_result"
    }
   ],
   "source": [
    "df = pd.read_csv('/kaggle/input/dnd-stats/stats.csv')\n",
    "df.describe()"
   ]
  },
  {
   "cell_type": "code",
   "execution_count": 3,
   "id": "5c38ac5c",
   "metadata": {
    "execution": {
     "iopub.execute_input": "2022-06-21T19:48:22.861608Z",
     "iopub.status.busy": "2022-06-21T19:48:22.861230Z",
     "iopub.status.idle": "2022-06-21T19:48:22.872469Z",
     "shell.execute_reply": "2022-06-21T19:48:22.871400Z"
    },
    "papermill": {
     "duration": 0.017342,
     "end_time": "2022-06-21T19:48:22.874829",
     "exception": false,
     "start_time": "2022-06-21T19:48:22.857487",
     "status": "completed"
    },
    "tags": []
   },
   "outputs": [
    {
     "data": {
      "text/plain": [
       "dragonborn    0.1144\n",
       "halfling      0.1135\n",
       "gnome         0.1121\n",
       "human         0.1120\n",
       "tiefling      0.1120\n",
       "elf           0.1112\n",
       "dwarf         0.1095\n",
       "half.elf      0.1086\n",
       "half.orc      0.1067\n",
       "Name: race, dtype: float64"
      ]
     },
     "execution_count": 3,
     "metadata": {},
     "output_type": "execute_result"
    }
   ],
   "source": [
    "df.race.value_counts(normalize=True)"
   ]
  },
  {
   "cell_type": "markdown",
   "id": "615d9aa0",
   "metadata": {
    "papermill": {
     "duration": 0.002272,
     "end_time": "2022-06-21T19:48:22.879729",
     "exception": false,
     "start_time": "2022-06-21T19:48:22.877457",
     "status": "completed"
    },
    "tags": []
   },
   "source": [
    "The target distribution is pretty balanced. The baseline model that simply predicts the most common class would achieve an accuracy of 11.44%. "
   ]
  }
 ],
 "metadata": {
  "kernelspec": {
   "display_name": "Python 3",
   "language": "python",
   "name": "python3"
  },
  "language_info": {
   "codemirror_mode": {
    "name": "ipython",
    "version": 3
   },
   "file_extension": ".py",
   "mimetype": "text/x-python",
   "name": "python",
   "nbconvert_exporter": "python",
   "pygments_lexer": "ipython3",
   "version": "3.7.12"
  },
  "papermill": {
   "default_parameters": {},
   "duration": 10.908434,
   "end_time": "2022-06-21T19:48:23.502469",
   "environment_variables": {},
   "exception": null,
   "input_path": "__notebook__.ipynb",
   "output_path": "__notebook__.ipynb",
   "parameters": {},
   "start_time": "2022-06-21T19:48:12.594035",
   "version": "2.3.4"
  }
 },
 "nbformat": 4,
 "nbformat_minor": 5
}
